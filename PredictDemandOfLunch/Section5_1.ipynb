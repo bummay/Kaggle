{
 "cells": [
  {
   "cell_type": "markdown",
   "metadata": {},
   "source": [
    "# PART1 簡単な予測モデルを作ってみよう"
   ]
  },
  {
   "cell_type": "markdown",
   "metadata": {},
   "source": [
    "## おまじない"
   ]
  },
  {
   "cell_type": "code",
   "execution_count": 15,
   "metadata": {},
   "outputs": [],
   "source": [
    "import pandas as pd\n",
    "import numpy as np\n",
    "from matplotlib import pyplot\n",
    "%matplotlib inline\n",
    "from sklearn.linear_model import LinearRegression as LR"
   ]
  },
  {
   "cell_type": "markdown",
   "metadata": {},
   "source": [
    "## データの読み込み\n",
    "- train.csvとtest.csvとsample.csvの３つのファイルを読み込みましょう\n",
    "- それぞれを読み込んだものは変数はtrain, test, sampleに代入しましょう\n",
    "- sampleを読み込む時は、header=Noneというオプションを忘れないようにしましょう"
   ]
  },
  {
   "cell_type": "code",
   "execution_count": 29,
   "metadata": {},
   "outputs": [],
   "source": [
    "train = pd.read_csv('input/train.csv')\n",
    "test = pd.read_csv('input/test.csv')\n",
    "sample = pd.read_csv('input/sample.csv', header=None)"
   ]
  },
  {
   "cell_type": "markdown",
   "metadata": {},
   "source": [
    "## trainの先頭行を見てみましょう"
   ]
  },
  {
   "cell_type": "code",
   "execution_count": 30,
   "metadata": {},
   "outputs": [
    {
     "data": {
      "text/html": [
       "<div>\n",
       "<style scoped>\n",
       "    .dataframe tbody tr th:only-of-type {\n",
       "        vertical-align: middle;\n",
       "    }\n",
       "\n",
       "    .dataframe tbody tr th {\n",
       "        vertical-align: top;\n",
       "    }\n",
       "\n",
       "    .dataframe thead th {\n",
       "        text-align: right;\n",
       "    }\n",
       "</style>\n",
       "<table border=\"1\" class=\"dataframe\">\n",
       "  <thead>\n",
       "    <tr style=\"text-align: right;\">\n",
       "      <th></th>\n",
       "      <th>datetime</th>\n",
       "      <th>y</th>\n",
       "      <th>week</th>\n",
       "      <th>soldout</th>\n",
       "      <th>name</th>\n",
       "      <th>kcal</th>\n",
       "      <th>remarks</th>\n",
       "      <th>event</th>\n",
       "      <th>payday</th>\n",
       "      <th>weather</th>\n",
       "      <th>precipitation</th>\n",
       "      <th>temperature</th>\n",
       "    </tr>\n",
       "  </thead>\n",
       "  <tbody>\n",
       "    <tr>\n",
       "      <th>0</th>\n",
       "      <td>2013-11-18</td>\n",
       "      <td>90</td>\n",
       "      <td>月</td>\n",
       "      <td>0</td>\n",
       "      <td>厚切りイカフライ</td>\n",
       "      <td>NaN</td>\n",
       "      <td>NaN</td>\n",
       "      <td>NaN</td>\n",
       "      <td>NaN</td>\n",
       "      <td>快晴</td>\n",
       "      <td>--</td>\n",
       "      <td>19.8</td>\n",
       "    </tr>\n",
       "    <tr>\n",
       "      <th>1</th>\n",
       "      <td>2013-11-19</td>\n",
       "      <td>101</td>\n",
       "      <td>火</td>\n",
       "      <td>1</td>\n",
       "      <td>手作りヒレカツ</td>\n",
       "      <td>NaN</td>\n",
       "      <td>NaN</td>\n",
       "      <td>NaN</td>\n",
       "      <td>NaN</td>\n",
       "      <td>快晴</td>\n",
       "      <td>--</td>\n",
       "      <td>17.0</td>\n",
       "    </tr>\n",
       "    <tr>\n",
       "      <th>2</th>\n",
       "      <td>2013-11-20</td>\n",
       "      <td>118</td>\n",
       "      <td>水</td>\n",
       "      <td>0</td>\n",
       "      <td>白身魚唐揚げ野菜あん</td>\n",
       "      <td>NaN</td>\n",
       "      <td>NaN</td>\n",
       "      <td>NaN</td>\n",
       "      <td>NaN</td>\n",
       "      <td>快晴</td>\n",
       "      <td>--</td>\n",
       "      <td>15.5</td>\n",
       "    </tr>\n",
       "    <tr>\n",
       "      <th>3</th>\n",
       "      <td>2013-11-21</td>\n",
       "      <td>120</td>\n",
       "      <td>木</td>\n",
       "      <td>1</td>\n",
       "      <td>若鶏ピリ辛焼</td>\n",
       "      <td>NaN</td>\n",
       "      <td>NaN</td>\n",
       "      <td>NaN</td>\n",
       "      <td>NaN</td>\n",
       "      <td>快晴</td>\n",
       "      <td>--</td>\n",
       "      <td>15.2</td>\n",
       "    </tr>\n",
       "    <tr>\n",
       "      <th>4</th>\n",
       "      <td>2013-11-22</td>\n",
       "      <td>130</td>\n",
       "      <td>金</td>\n",
       "      <td>1</td>\n",
       "      <td>ビッグメンチカツ</td>\n",
       "      <td>NaN</td>\n",
       "      <td>NaN</td>\n",
       "      <td>NaN</td>\n",
       "      <td>NaN</td>\n",
       "      <td>快晴</td>\n",
       "      <td>--</td>\n",
       "      <td>16.1</td>\n",
       "    </tr>\n",
       "  </tbody>\n",
       "</table>\n",
       "</div>"
      ],
      "text/plain": [
       "     datetime    y week  soldout        name  kcal remarks event  payday  \\\n",
       "0  2013-11-18   90    月        0    厚切りイカフライ   NaN     NaN   NaN     NaN   \n",
       "1  2013-11-19  101    火        1     手作りヒレカツ   NaN     NaN   NaN     NaN   \n",
       "2  2013-11-20  118    水        0  白身魚唐揚げ野菜あん   NaN     NaN   NaN     NaN   \n",
       "3  2013-11-21  120    木        1      若鶏ピリ辛焼   NaN     NaN   NaN     NaN   \n",
       "4  2013-11-22  130    金        1    ビッグメンチカツ   NaN     NaN   NaN     NaN   \n",
       "\n",
       "  weather precipitation  temperature  \n",
       "0      快晴            --         19.8  \n",
       "1      快晴            --         17.0  \n",
       "2      快晴            --         15.5  \n",
       "3      快晴            --         15.2  \n",
       "4      快晴            --         16.1  "
      ]
     },
     "execution_count": 30,
     "metadata": {},
     "output_type": "execute_result"
    }
   ],
   "source": [
    "train.head()"
   ]
  },
  {
   "cell_type": "markdown",
   "metadata": {},
   "source": [
    "## trainから説明変数と目的変数となるデータを取り出しましょう\n",
    "- 説明変数はtrainからtemperatureを選択し、変数名をtrainXとして代入しましょう\n",
    "- 目的変数はtrainからyを選択し、変数名をyとして代入しましょう"
   ]
  },
  {
   "cell_type": "code",
   "execution_count": 31,
   "metadata": {},
   "outputs": [],
   "source": [
    "trainX = train['temperature']\n",
    "y = train['y']"
   ]
  },
  {
   "cell_type": "markdown",
   "metadata": {},
   "source": [
    "## testから説明変数となるデータを取り出しましょう\n",
    "- 説明変数はtrainと同じtemperatureを選択し、変数名をtestXとして代入しましょう"
   ]
  },
  {
   "cell_type": "code",
   "execution_count": 32,
   "metadata": {},
   "outputs": [],
   "source": [
    "testX = test['temperature']"
   ]
  },
  {
   "cell_type": "markdown",
   "metadata": {},
   "source": [
    "## 単回帰の場合のみ、説明変数に対しておまじないが必要となります\n",
    "- 単回帰の場合はややこしいですが、train,testの説明変数ともに、データの形を整える必要があります\n",
    "- 具体的にはvalues.reshape(-1,1)というおまじないをします\n",
    "- 整えた後、再び変数Xに代入します"
   ]
  },
  {
   "cell_type": "code",
   "execution_count": 33,
   "metadata": {},
   "outputs": [],
   "source": [
    "trainX = trainX.values.reshape(-1, 1)\n",
    "testX = testX.values.reshape(-1, 1)"
   ]
  },
  {
   "cell_type": "markdown",
   "metadata": {},
   "source": [
    "## 回帰のモデルの箱を用意しましょう\n",
    "- モデルを作る為にはまず、モデルを表す箱が必ず必要になります\n",
    "- 変数名をmodel1として、LR()を代入しましょう"
   ]
  },
  {
   "cell_type": "code",
   "execution_count": 34,
   "metadata": {},
   "outputs": [],
   "source": [
    "model1 = LR()"
   ]
  },
  {
   "cell_type": "markdown",
   "metadata": {},
   "source": [
    "## 単回帰モデルを作りましょう\n",
    "- fit関数を使います\n",
    "- カッコの中に、説明変数、目的変数の順番に書きます"
   ]
  },
  {
   "cell_type": "code",
   "execution_count": 35,
   "metadata": {},
   "outputs": [
    {
     "data": {
      "text/plain": [
       "LinearRegression(copy_X=True, fit_intercept=True, n_jobs=None, normalize=False)"
      ]
     },
     "execution_count": 35,
     "metadata": {},
     "output_type": "execute_result"
    }
   ],
   "source": [
    "model1.fit(trainX, y)"
   ]
  },
  {
   "cell_type": "markdown",
   "metadata": {},
   "source": [
    "## 作ったモデルの傾きや切片を確かめてみましょう\n",
    "- 傾きはcoef_を使います\n",
    "- 切片はintercept_を使います"
   ]
  },
  {
   "cell_type": "code",
   "execution_count": 36,
   "metadata": {},
   "outputs": [
    {
     "data": {
      "text/plain": [
       "array([-2.5023821])"
      ]
     },
     "execution_count": 36,
     "metadata": {},
     "output_type": "execute_result"
    }
   ],
   "source": [
    "model1.coef_"
   ]
  },
  {
   "cell_type": "code",
   "execution_count": 37,
   "metadata": {},
   "outputs": [
    {
     "data": {
      "text/plain": [
       "134.79948383749922"
      ]
     },
     "execution_count": 37,
     "metadata": {},
     "output_type": "execute_result"
    }
   ],
   "source": [
    "model1.intercept_"
   ]
  },
  {
   "cell_type": "markdown",
   "metadata": {},
   "source": [
    "## 予測をしましょう\n",
    "- predict関数を使います\n",
    "- 予測結果は変数predに代入しましょう"
   ]
  },
  {
   "cell_type": "code",
   "execution_count": 38,
   "metadata": {},
   "outputs": [],
   "source": [
    "pred = model1.predict(testX)"
   ]
  },
  {
   "cell_type": "code",
   "execution_count": 39,
   "metadata": {},
   "outputs": [
    {
     "data": {
      "text/plain": [
       "array([ 84.25136537,  74.99255159,  62.9811175 ,  80.99826864,\n",
       "        79.49683938,  76.49398085,  78.49588653,  69.48731097,\n",
       "        67.73564349,  95.76232304,  88.25517673,  77.24469548,\n",
       "        74.99255159,  84.25136537,  96.01256125,  98.01446693,\n",
       "        88.00493852,  77.99541011,  87.00398568,  85.75279463,\n",
       "        85.75279463,  87.75470031,  87.5044621 ,  94.7613702 ,\n",
       "        86.75374747,  84.50160358,  81.74898327,  98.01446693,\n",
       "        98.76518156,  86.00303284,  95.26184662,  99.01541977,\n",
       "        94.51113199,  97.51399051, 108.52447176,  97.51399051,\n",
       "       106.27232787, 111.7775685 ,  97.01351409,  96.51303767])"
      ]
     },
     "execution_count": 39,
     "metadata": {},
     "output_type": "execute_result"
    }
   ],
   "source": [
    "pred"
   ]
  },
  {
   "cell_type": "markdown",
   "metadata": {},
   "source": [
    "## sampleの中身を確認してみましょう"
   ]
  },
  {
   "cell_type": "code",
   "execution_count": 40,
   "metadata": {},
   "outputs": [
    {
     "data": {
      "text/html": [
       "<div>\n",
       "<style scoped>\n",
       "    .dataframe tbody tr th:only-of-type {\n",
       "        vertical-align: middle;\n",
       "    }\n",
       "\n",
       "    .dataframe tbody tr th {\n",
       "        vertical-align: top;\n",
       "    }\n",
       "\n",
       "    .dataframe thead th {\n",
       "        text-align: right;\n",
       "    }\n",
       "</style>\n",
       "<table border=\"1\" class=\"dataframe\">\n",
       "  <thead>\n",
       "    <tr style=\"text-align: right;\">\n",
       "      <th></th>\n",
       "      <th>0</th>\n",
       "      <th>1</th>\n",
       "    </tr>\n",
       "  </thead>\n",
       "  <tbody>\n",
       "    <tr>\n",
       "      <th>0</th>\n",
       "      <td>2014-10-1</td>\n",
       "      <td>24</td>\n",
       "    </tr>\n",
       "    <tr>\n",
       "      <th>1</th>\n",
       "      <td>2014-10-2</td>\n",
       "      <td>71</td>\n",
       "    </tr>\n",
       "    <tr>\n",
       "      <th>2</th>\n",
       "      <td>2014-10-3</td>\n",
       "      <td>25</td>\n",
       "    </tr>\n",
       "    <tr>\n",
       "      <th>3</th>\n",
       "      <td>2014-10-6</td>\n",
       "      <td>32</td>\n",
       "    </tr>\n",
       "    <tr>\n",
       "      <th>4</th>\n",
       "      <td>2014-10-7</td>\n",
       "      <td>60</td>\n",
       "    </tr>\n",
       "  </tbody>\n",
       "</table>\n",
       "</div>"
      ],
      "text/plain": [
       "           0   1\n",
       "0  2014-10-1  24\n",
       "1  2014-10-2  71\n",
       "2  2014-10-3  25\n",
       "3  2014-10-6  32\n",
       "4  2014-10-7  60"
      ]
     },
     "execution_count": 40,
     "metadata": {},
     "output_type": "execute_result"
    }
   ],
   "source": [
    "sample.head()"
   ]
  },
  {
   "cell_type": "markdown",
   "metadata": {},
   "source": [
    "## sample[1]に予測結果を代入しましょう"
   ]
  },
  {
   "cell_type": "code",
   "execution_count": 41,
   "metadata": {},
   "outputs": [],
   "source": [
    "sample[1] = pred"
   ]
  },
  {
   "cell_type": "code",
   "execution_count": 42,
   "metadata": {},
   "outputs": [
    {
     "data": {
      "text/html": [
       "<div>\n",
       "<style scoped>\n",
       "    .dataframe tbody tr th:only-of-type {\n",
       "        vertical-align: middle;\n",
       "    }\n",
       "\n",
       "    .dataframe tbody tr th {\n",
       "        vertical-align: top;\n",
       "    }\n",
       "\n",
       "    .dataframe thead th {\n",
       "        text-align: right;\n",
       "    }\n",
       "</style>\n",
       "<table border=\"1\" class=\"dataframe\">\n",
       "  <thead>\n",
       "    <tr style=\"text-align: right;\">\n",
       "      <th></th>\n",
       "      <th>0</th>\n",
       "      <th>1</th>\n",
       "    </tr>\n",
       "  </thead>\n",
       "  <tbody>\n",
       "    <tr>\n",
       "      <th>0</th>\n",
       "      <td>2014-10-1</td>\n",
       "      <td>84.251365</td>\n",
       "    </tr>\n",
       "    <tr>\n",
       "      <th>1</th>\n",
       "      <td>2014-10-2</td>\n",
       "      <td>74.992552</td>\n",
       "    </tr>\n",
       "    <tr>\n",
       "      <th>2</th>\n",
       "      <td>2014-10-3</td>\n",
       "      <td>62.981117</td>\n",
       "    </tr>\n",
       "    <tr>\n",
       "      <th>3</th>\n",
       "      <td>2014-10-6</td>\n",
       "      <td>80.998269</td>\n",
       "    </tr>\n",
       "    <tr>\n",
       "      <th>4</th>\n",
       "      <td>2014-10-7</td>\n",
       "      <td>79.496839</td>\n",
       "    </tr>\n",
       "  </tbody>\n",
       "</table>\n",
       "</div>"
      ],
      "text/plain": [
       "           0          1\n",
       "0  2014-10-1  84.251365\n",
       "1  2014-10-2  74.992552\n",
       "2  2014-10-3  62.981117\n",
       "3  2014-10-6  80.998269\n",
       "4  2014-10-7  79.496839"
      ]
     },
     "execution_count": 42,
     "metadata": {},
     "output_type": "execute_result"
    }
   ],
   "source": [
    "sample.head()"
   ]
  },
  {
   "cell_type": "markdown",
   "metadata": {},
   "source": [
    "## sampleをファイルで書きだしましょう\n",
    "- to_csv関数を使います\n",
    "- オプションは３つあり、\"submit1.csv\", index=None, header=Noneを書きます"
   ]
  },
  {
   "cell_type": "code",
   "execution_count": 43,
   "metadata": {},
   "outputs": [],
   "source": [
    "sample.to_csv('output/submit.csv', index=None, header=None)"
   ]
  },
  {
   "cell_type": "markdown",
   "metadata": {},
   "source": [
    "# 実習\n",
    "1.説明変数をkcalとして、単回帰モデルを作ろう。まず、 trainとtestのkcalに欠損値があるかないか確認しよう\n",
    "- 本当に欠損があるかどうか、head関数を使って確認しよう"
   ]
  },
  {
   "cell_type": "code",
   "execution_count": 47,
   "metadata": {},
   "outputs": [
    {
     "data": {
      "text/plain": [
       "datetime           0\n",
       "y                  0\n",
       "week               0\n",
       "soldout            0\n",
       "name               0\n",
       "kcal              41\n",
       "remarks          186\n",
       "event            193\n",
       "payday           197\n",
       "weather            0\n",
       "precipitation      0\n",
       "temperature        0\n",
       "dtype: int64"
      ]
     },
     "execution_count": 47,
     "metadata": {},
     "output_type": "execute_result"
    }
   ],
   "source": [
    "train.isnull().sum()"
   ]
  },
  {
   "cell_type": "code",
   "execution_count": 48,
   "metadata": {},
   "outputs": [
    {
     "data": {
      "text/plain": [
       "datetime          0\n",
       "week              0\n",
       "soldout           0\n",
       "name              0\n",
       "kcal              4\n",
       "remarks          33\n",
       "event            37\n",
       "payday           38\n",
       "weather           0\n",
       "precipitation     0\n",
       "temperature       0\n",
       "dtype: int64"
      ]
     },
     "execution_count": 48,
     "metadata": {},
     "output_type": "execute_result"
    }
   ],
   "source": [
    "test.isnull().sum()"
   ]
  },
  {
   "cell_type": "markdown",
   "metadata": {},
   "source": [
    "2.trainのkcalの平均値を求め、変数avgに代入しよう"
   ]
  },
  {
   "cell_type": "code",
   "execution_count": 51,
   "metadata": {},
   "outputs": [
    {
     "data": {
      "text/plain": [
       "404.4096385542169"
      ]
     },
     "execution_count": 51,
     "metadata": {},
     "output_type": "execute_result"
    }
   ],
   "source": [
    "avg = train['kcal'].mean()\n",
    "avg"
   ]
  },
  {
   "cell_type": "markdown",
   "metadata": {},
   "source": [
    "3.変数avgを使って、trainとtestのkcalの欠損値を補間し、それぞれを変数名trainXとtestXに代入してみよう"
   ]
  },
  {
   "cell_type": "code",
   "execution_count": 57,
   "metadata": {},
   "outputs": [],
   "source": [
    "trainX = train['kcal'].fillna(avg)\n",
    "testX = test['kcal'].fillna(avg)"
   ]
  },
  {
   "cell_type": "markdown",
   "metadata": {
    "collapsed": true
   },
   "source": [
    "4.trainXとtestXをvalues.reshape(-1,1)を使って形を整え、再びtrainX, testXへ代入しよう\n",
    "    1. 3番ではtrainXにはavgで補間されたtrain[\"kcal\"]が代入される\n",
    "    2. 4番では補間されたtrainXにおまじないをかけたものがtrainXに代入されることになる"
   ]
  },
  {
   "cell_type": "code",
   "execution_count": 58,
   "metadata": {},
   "outputs": [],
   "source": [
    "trainX = trainX.values.reshape(-1, 1)\n",
    "testX = testX.values.reshape(-1, 1)"
   ]
  },
  {
   "cell_type": "code",
   "execution_count": 59,
   "metadata": {},
   "outputs": [
    {
     "data": {
      "text/plain": [
       "array([[404.40963855],\n",
       "       [404.40963855],\n",
       "       [404.40963855],\n",
       "       [404.40963855],\n",
       "       [404.40963855],\n",
       "       [404.40963855],\n",
       "       [404.40963855],\n",
       "       [404.40963855],\n",
       "       [404.40963855],\n",
       "       [404.40963855],\n",
       "       [404.40963855],\n",
       "       [404.40963855],\n",
       "       [404.40963855],\n",
       "       [404.40963855],\n",
       "       [404.40963855],\n",
       "       [404.40963855],\n",
       "       [404.40963855],\n",
       "       [404.40963855],\n",
       "       [404.40963855],\n",
       "       [404.40963855],\n",
       "       [404.40963855],\n",
       "       [404.40963855],\n",
       "       [404.40963855],\n",
       "       [404.40963855],\n",
       "       [404.40963855],\n",
       "       [404.40963855],\n",
       "       [404.40963855],\n",
       "       [404.40963855],\n",
       "       [404.        ],\n",
       "       [462.        ],\n",
       "       [435.        ],\n",
       "       [440.        ],\n",
       "       [376.        ],\n",
       "       [450.        ],\n",
       "       [415.        ],\n",
       "       [430.        ],\n",
       "       [375.        ],\n",
       "       [447.        ],\n",
       "       [426.        ],\n",
       "       [400.        ],\n",
       "       [418.        ],\n",
       "       [415.        ],\n",
       "       [445.        ],\n",
       "       [450.        ],\n",
       "       [448.        ],\n",
       "       [460.        ],\n",
       "       [445.        ],\n",
       "       [430.        ],\n",
       "       [420.        ],\n",
       "       [435.        ],\n",
       "       [425.        ],\n",
       "       [423.        ],\n",
       "       [415.        ],\n",
       "       [438.        ],\n",
       "       [432.        ],\n",
       "       [416.        ],\n",
       "       [426.        ],\n",
       "       [405.        ],\n",
       "       [426.        ],\n",
       "       [410.        ],\n",
       "       [408.        ],\n",
       "       [396.        ],\n",
       "       [384.        ],\n",
       "       [436.        ],\n",
       "       [428.        ],\n",
       "       [407.        ],\n",
       "       [413.        ],\n",
       "       [393.        ],\n",
       "       [409.        ],\n",
       "       [396.        ],\n",
       "       [385.        ],\n",
       "       [397.        ],\n",
       "       [370.        ],\n",
       "       [372.        ],\n",
       "       [360.        ],\n",
       "       [382.        ],\n",
       "       [400.        ],\n",
       "       [392.        ],\n",
       "       [372.        ],\n",
       "       [350.        ],\n",
       "       [407.        ],\n",
       "       [392.        ],\n",
       "       [315.        ],\n",
       "       [404.40963855],\n",
       "       [349.        ],\n",
       "       [377.        ],\n",
       "       [380.        ],\n",
       "       [390.        ],\n",
       "       [350.        ],\n",
       "       [387.        ],\n",
       "       [353.        ],\n",
       "       [376.        ],\n",
       "       [362.        ],\n",
       "       [404.40963855],\n",
       "       [340.        ],\n",
       "       [370.        ],\n",
       "       [330.        ],\n",
       "       [333.        ],\n",
       "       [325.        ],\n",
       "       [375.        ],\n",
       "       [382.        ],\n",
       "       [340.        ],\n",
       "       [360.        ],\n",
       "       [404.40963855],\n",
       "       [342.        ],\n",
       "       [368.        ],\n",
       "       [415.        ],\n",
       "       [420.        ],\n",
       "       [415.        ],\n",
       "       [405.        ],\n",
       "       [434.        ],\n",
       "       [400.        ],\n",
       "       [428.        ],\n",
       "       [430.        ],\n",
       "       [403.        ],\n",
       "       [404.40963855],\n",
       "       [406.        ],\n",
       "       [425.        ],\n",
       "       [430.        ],\n",
       "       [428.        ],\n",
       "       [400.        ],\n",
       "       [430.        ],\n",
       "       [423.        ],\n",
       "       [414.        ],\n",
       "       [438.        ],\n",
       "       [404.40963855],\n",
       "       [420.        ],\n",
       "       [418.        ],\n",
       "       [424.        ],\n",
       "       [405.        ],\n",
       "       [430.        ],\n",
       "       [417.        ],\n",
       "       [426.        ],\n",
       "       [413.        ],\n",
       "       [440.        ],\n",
       "       [404.40963855],\n",
       "       [440.        ],\n",
       "       [427.        ],\n",
       "       [426.        ],\n",
       "       [430.        ],\n",
       "       [407.        ],\n",
       "       [421.        ],\n",
       "       [430.        ],\n",
       "       [420.        ],\n",
       "       [414.        ],\n",
       "       [404.40963855],\n",
       "       [435.        ],\n",
       "       [362.        ],\n",
       "       [363.        ],\n",
       "       [412.        ],\n",
       "       [432.        ],\n",
       "       [354.        ],\n",
       "       [370.        ],\n",
       "       [388.        ],\n",
       "       [386.        ],\n",
       "       [404.40963855],\n",
       "       [418.        ],\n",
       "       [324.        ],\n",
       "       [434.        ],\n",
       "       [418.        ],\n",
       "       [401.        ],\n",
       "       [409.        ],\n",
       "       [355.        ],\n",
       "       [410.        ],\n",
       "       [404.40963855],\n",
       "       [432.        ],\n",
       "       [449.        ],\n",
       "       [441.        ],\n",
       "       [386.        ],\n",
       "       [380.        ],\n",
       "       [410.        ],\n",
       "       [400.        ],\n",
       "       [410.        ],\n",
       "       [415.        ],\n",
       "       [404.40963855],\n",
       "       [411.        ],\n",
       "       [400.        ],\n",
       "       [396.        ],\n",
       "       [385.        ],\n",
       "       [423.        ],\n",
       "       [405.        ],\n",
       "       [404.40963855],\n",
       "       [412.        ],\n",
       "       [400.        ],\n",
       "       [410.        ],\n",
       "       [396.        ],\n",
       "       [398.        ],\n",
       "       [380.        ],\n",
       "       [440.        ],\n",
       "       [408.        ],\n",
       "       [405.        ],\n",
       "       [380.        ],\n",
       "       [385.        ],\n",
       "       [460.        ],\n",
       "       [450.        ],\n",
       "       [385.        ],\n",
       "       [404.40963855],\n",
       "       [438.        ],\n",
       "       [430.        ],\n",
       "       [395.        ],\n",
       "       [400.        ],\n",
       "       [395.        ],\n",
       "       [408.        ],\n",
       "       [394.        ],\n",
       "       [404.40963855],\n",
       "       [404.        ],\n",
       "       [398.        ]])"
      ]
     },
     "execution_count": 59,
     "metadata": {},
     "output_type": "execute_result"
    }
   ],
   "source": [
    "trainX"
   ]
  },
  {
   "cell_type": "markdown",
   "metadata": {},
   "source": [
    "5.trainからyを取り出し、変数yに代入しよう"
   ]
  },
  {
   "cell_type": "code",
   "execution_count": 60,
   "metadata": {},
   "outputs": [],
   "source": [
    "y = train['y']"
   ]
  },
  {
   "cell_type": "markdown",
   "metadata": {
    "collapsed": true
   },
   "source": [
    "6.回帰モデルの箱を変数名model2として用意しよう"
   ]
  },
  {
   "cell_type": "code",
   "execution_count": 61,
   "metadata": {},
   "outputs": [],
   "source": [
    "model2 = LR()"
   ]
  },
  {
   "cell_type": "markdown",
   "metadata": {},
   "source": [
    "7.trainXとyを使って単回帰のモデルを作ろう"
   ]
  },
  {
   "cell_type": "code",
   "execution_count": 62,
   "metadata": {},
   "outputs": [
    {
     "data": {
      "text/plain": [
       "LinearRegression(copy_X=True, fit_intercept=True, n_jobs=None, normalize=False)"
      ]
     },
     "execution_count": 62,
     "metadata": {},
     "output_type": "execute_result"
    }
   ],
   "source": [
    "model2.fit(trainX, y)"
   ]
  },
  {
   "cell_type": "markdown",
   "metadata": {},
   "source": [
    "8.作ったモデルの傾きと切片を確認しよう"
   ]
  },
  {
   "cell_type": "code",
   "execution_count": 63,
   "metadata": {},
   "outputs": [
    {
     "data": {
      "text/plain": [
       "array([0.13195178])"
      ]
     },
     "execution_count": 63,
     "metadata": {},
     "output_type": "execute_result"
    }
   ],
   "source": [
    "model2.coef_"
   ]
  },
  {
   "cell_type": "code",
   "execution_count": 64,
   "metadata": {},
   "outputs": [
    {
     "data": {
      "text/plain": [
       "33.26061577029441"
      ]
     },
     "execution_count": 64,
     "metadata": {},
     "output_type": "execute_result"
    }
   ],
   "source": [
    "model2.intercept_"
   ]
  },
  {
   "cell_type": "markdown",
   "metadata": {},
   "source": [
    "9.testXを使って予測をし、予測値を変数pred2に代入しよう"
   ]
  },
  {
   "cell_type": "code",
   "execution_count": 65,
   "metadata": {},
   "outputs": [],
   "source": [
    "pred2 = model2.predict(testX)"
   ]
  },
  {
   "cell_type": "markdown",
   "metadata": {},
   "source": [
    "10.sample[1]にpred2を代入しよう"
   ]
  },
  {
   "cell_type": "code",
   "execution_count": 67,
   "metadata": {},
   "outputs": [
    {
     "data": {
      "text/html": [
       "<div>\n",
       "<style scoped>\n",
       "    .dataframe tbody tr th:only-of-type {\n",
       "        vertical-align: middle;\n",
       "    }\n",
       "\n",
       "    .dataframe tbody tr th {\n",
       "        vertical-align: top;\n",
       "    }\n",
       "\n",
       "    .dataframe thead th {\n",
       "        text-align: right;\n",
       "    }\n",
       "</style>\n",
       "<table border=\"1\" class=\"dataframe\">\n",
       "  <thead>\n",
       "    <tr style=\"text-align: right;\">\n",
       "      <th></th>\n",
       "      <th>0</th>\n",
       "      <th>1</th>\n",
       "    </tr>\n",
       "  </thead>\n",
       "  <tbody>\n",
       "    <tr>\n",
       "      <th>0</th>\n",
       "      <td>2014-10-1</td>\n",
       "      <td>88.680364</td>\n",
       "    </tr>\n",
       "    <tr>\n",
       "      <th>1</th>\n",
       "      <td>2014-10-2</td>\n",
       "      <td>88.020605</td>\n",
       "    </tr>\n",
       "    <tr>\n",
       "      <th>2</th>\n",
       "      <td>2014-10-3</td>\n",
       "      <td>86.701088</td>\n",
       "    </tr>\n",
       "    <tr>\n",
       "      <th>3</th>\n",
       "      <td>2014-10-6</td>\n",
       "      <td>86.041329</td>\n",
       "    </tr>\n",
       "    <tr>\n",
       "      <th>4</th>\n",
       "      <td>2014-10-7</td>\n",
       "      <td>89.999882</td>\n",
       "    </tr>\n",
       "  </tbody>\n",
       "</table>\n",
       "</div>"
      ],
      "text/plain": [
       "           0          1\n",
       "0  2014-10-1  88.680364\n",
       "1  2014-10-2  88.020605\n",
       "2  2014-10-3  86.701088\n",
       "3  2014-10-6  86.041329\n",
       "4  2014-10-7  89.999882"
      ]
     },
     "execution_count": 67,
     "metadata": {},
     "output_type": "execute_result"
    }
   ],
   "source": [
    "sample[1] = pred2\n",
    "sample.head()"
   ]
  },
  {
   "cell_type": "markdown",
   "metadata": {},
   "source": [
    "11.to_csv関数のindex=Noneがある時とない時の違い、header=Noneがある時とない時の違いは何かを考えてみよう"
   ]
  },
  {
   "cell_type": "markdown",
   "metadata": {},
   "source": [
    "12.sampleをファイル出力し、submit2.csvという投稿用ファイルを作ろう"
   ]
  },
  {
   "cell_type": "code",
   "execution_count": 70,
   "metadata": {},
   "outputs": [],
   "source": [
    "sample.to_csv('output/submit2.csv', index=None, header=None)"
   ]
  },
  {
   "cell_type": "markdown",
   "metadata": {},
   "source": [
    "13.submit2.csvをDeepAnalyticsに投稿して、submit1.csvのスコアを比較してみよう"
   ]
  }
 ],
 "metadata": {
  "kernelspec": {
   "display_name": "Python 3",
   "language": "python",
   "name": "python3"
  },
  "language_info": {
   "codemirror_mode": {
    "name": "ipython",
    "version": 3
   },
   "file_extension": ".py",
   "mimetype": "text/x-python",
   "name": "python",
   "nbconvert_exporter": "python",
   "pygments_lexer": "ipython3",
   "version": "3.7.6"
  }
 },
 "nbformat": 4,
 "nbformat_minor": 2
}
